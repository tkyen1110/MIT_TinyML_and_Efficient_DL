{
  "nbformat": 4,
  "nbformat_minor": 0,
  "metadata": {
    "colab": {
      "provenance": [],
      "collapsed_sections": [
        "2tFjnZZVlIFL"
      ],
      "toc_visible": true,
      "include_colab_link": true
    },
    "kernelspec": {
      "name": "python3",
      "display_name": "Python 3"
    },
    "language_info": {
      "name": "python"
    },
    "gpuClass": "standard",
    "accelerator": "GPU"
  },
  "cells": [
    {
      "cell_type": "markdown",
      "metadata": {
        "id": "view-in-github",
        "colab_type": "text"
      },
      "source": [
        "<a href=\"https://colab.research.google.com/github/tkyen1110/mit_tinyML_and_efficient_DL/blob/master/mit-6s965-lab2-quantization.ipynb\" target=\"_parent\"><img src=\"https://colab.research.google.com/assets/colab-badge.svg\" alt=\"Open In Colab\"/></a>"
      ]
    },
    {
      "cell_type": "markdown",
      "source": [
        "# **MIT 6.S965 Fall 2022 Lab 2: Quantization**"
      ],
      "metadata": {
        "id": "pmi4V4VaYR6i"
      }
    },
    {
      "cell_type": "markdown",
      "source": [
        "This colab notebook provides code and a framework for Lab 2 quantization. You can work out your solutions here."
      ],
      "metadata": {
        "id": "_PC9ifUhHwRT"
      }
    },
    {
      "cell_type": "markdown",
      "source": [
        "Please fill out this [feedback form](https://docs.google.com/forms/d/e/1FAIpQLSd6I3YRQzxuaNQme9z4yawf1szi3kRGuKZk-4s76XLB97bBQw/viewform?vc=0&c=0&w=1&flr=0&usp=mail_form_link) when you finished this lab. We would love to hear your thoughts or feedback on how we can improve this lab!"
      ],
      "metadata": {
        "id": "A-antxp8SSyb"
      }
    },
    {
      "cell_type": "markdown",
      "source": [
        "## Goals\n",
        "\n",
        "In this assignment, you will practice quantizing a classical neural network model to reduce both model size and latency. The goals of this assignment are as follows:\n",
        "\n",
        "- Understand the basic concept of **quantization**\n",
        "- Implement and apply **k-means quantization**\n",
        "- Implement and apply **quantization-aware training** for k-means quantization\n",
        "- Implement and apply **linear quantization**\n",
        "- Implement and apply **integer-only inference** for linear quantization\n",
        "- Get a basic understanding of performance improvement (such as speedup) from quantization\n",
        "- Understand the differences and tradeoffs between these quantization approaches"
      ],
      "metadata": {
        "id": "vhVOMmbAaHRd"
      }
    },
    {
      "cell_type": "markdown",
      "source": [
        "## Contents\n",
        "\n",
        "\n",
        "There are 2 main sections: ***K-Means Quantization*** and ***Linear Quantization***.\n",
        "\n",
        "There are ***10*** questions in total:\n",
        "- For *K-Means Quantization*, there are ***3*** questions (Question 1-3).\n",
        "- For *Linear Quantization*, there are ***6*** questions (Question 4-9).\n",
        "- Question 10 compares k-means quantization and linear quantization."
      ],
      "metadata": {
        "id": "W6HPdGZ7aHZo"
      }
    },
    {
      "cell_type": "markdown",
      "source": [
        "# Setup"
      ],
      "metadata": {
        "id": "2tFjnZZVlIFL"
      }
    },
    {
      "cell_type": "markdown",
      "source": [
        "First, install the required packages and download the datasets and pretrained model. Here we use CIFAR10 dataset and VGG network which is the same as what we used in the Lab 0 tutorial.\n",
        "\n"
      ],
      "metadata": {
        "id": "Bz16rxaSH_7f"
      }
    },
    {
      "cell_type": "code",
      "execution_count": null,
      "metadata": {
        "id": "nyngBRTXQG2n"
      },
      "outputs": [],
      "source": [
        "print('Installing torchprofile...')\n",
        "!pip install torchprofile 1>/dev/null\n",
        "print('Installing fast-pytorch-kmeans...')\n",
        "! pip install fast-pytorch-kmeans 1>/dev/null\n",
        "print('All required packages have been successfully installed!')"
      ]
    },
    {
      "cell_type": "code",
      "source": [
        "import copy\n",
        "import math\n",
        "import random\n",
        "from collections import OrderedDict, defaultdict\n",
        "\n",
        "from matplotlib import pyplot as plt\n",
        "from matplotlib.colors import ListedColormap\n",
        "import numpy as np\n",
        "from tqdm.auto import tqdm\n",
        "\n",
        "import torch\n",
        "from torch import nn\n",
        "from torch.optim import *\n",
        "from torch.optim.lr_scheduler import *\n",
        "from torch.utils.data import DataLoader\n",
        "from torchprofile import profile_macs\n",
        "from torchvision.datasets import *\n",
        "from torchvision.transforms import *\n",
        "\n",
        "from torchprofile import profile_macs\n",
        "\n",
        "assert torch.cuda.is_available(), \\\n",
        "\"The current runtime does not have CUDA support.\" \\\n",
        "\"Please go to menu bar (Runtime - Change runtime type) and select GPU\""
      ],
      "metadata": {
        "id": "zDWoVhv_wGmA"
      },
      "execution_count": null,
      "outputs": []
    },
    {
      "cell_type": "code",
      "source": [
        "random.seed(0)\n",
        "np.random.seed(0)\n",
        "torch.manual_seed(0)"
      ],
      "metadata": {
        "id": "nLcJUofTDKud"
      },
      "execution_count": null,
      "outputs": []
    },
    {
      "cell_type": "code",
      "source": [
        "def download_url(url, model_dir='.', overwrite=False):\n",
        "    import os, sys\n",
        "    from urllib.request import urlretrieve\n",
        "    target_dir = url.split('/')[-1]\n",
        "    model_dir = os.path.expanduser(model_dir)\n",
        "    try:\n",
        "        if not os.path.exists(model_dir):\n",
        "            os.makedirs(model_dir)\n",
        "        model_dir = os.path.join(model_dir, target_dir)\n",
        "        cached_file = model_dir\n",
        "        if not os.path.exists(cached_file) or overwrite:\n",
        "            sys.stderr.write('Downloading: \"{}\" to {}\\n'.format(url, cached_file))\n",
        "            urlretrieve(url, cached_file)\n",
        "        return cached_file\n",
        "    except Exception as e:\n",
        "        # remove lock file so download can be executed next time.\n",
        "        os.remove(os.path.join(model_dir, 'download.lock'))\n",
        "        sys.stderr.write('Failed to download from url %s' % url + '\\n' + str(e) + '\\n')\n",
        "        return None"
      ],
      "metadata": {
        "id": "6kpu78GyHGA-"
      },
      "execution_count": null,
      "outputs": []
    },
    {
      "cell_type": "code",
      "source": [
        "class VGG(nn.Module):\n",
        "  ARCH = [64, 128, 'M', 256, 256, 'M', 512, 512, 'M', 512, 512, 'M']\n",
        "\n",
        "  def __init__(self) -> None:\n",
        "    super().__init__()\n",
        "\n",
        "    layers = []\n",
        "    counts = defaultdict(int)\n",
        "\n",
        "    def add(name: str, layer: nn.Module) -> None:\n",
        "      layers.append((f\"{name}{counts[name]}\", layer))\n",
        "      counts[name] += 1\n",
        "\n",
        "    in_channels = 3\n",
        "    for x in self.ARCH:\n",
        "      if x != 'M':\n",
        "        # conv-bn-relu\n",
        "        add(\"conv\", nn.Conv2d(in_channels, x, 3, padding=1, bias=False))\n",
        "        add(\"bn\", nn.BatchNorm2d(x))\n",
        "        add(\"relu\", nn.ReLU(True))\n",
        "        in_channels = x\n",
        "      else:\n",
        "        # maxpool\n",
        "        add(\"pool\", nn.MaxPool2d(2))\n",
        "    add(\"avgpool\", nn.AvgPool2d(2))\n",
        "    self.backbone = nn.Sequential(OrderedDict(layers))\n",
        "    self.classifier = nn.Linear(512, 10)\n",
        "\n",
        "  def forward(self, x: torch.Tensor) -> torch.Tensor:\n",
        "    # backbone: [N, 3, 32, 32] => [N, 512, 2, 2]\n",
        "    x = self.backbone(x)\n",
        "\n",
        "    # avgpool: [N, 512, 2, 2] => [N, 512]\n",
        "    # x = x.mean([2, 3])\n",
        "    x = x.view(x.shape[0], -1)\n",
        "\n",
        "    # classifier: [N, 512] => [N, 10]\n",
        "    x = self.classifier(x)\n",
        "    return x"
      ],
      "metadata": {
        "id": "qqInscyoifYN"
      },
      "execution_count": null,
      "outputs": []
    },
    {
      "cell_type": "code",
      "source": [
        "def train(\n",
        "  model: nn.Module,\n",
        "  dataloader: DataLoader,\n",
        "  criterion: nn.Module,\n",
        "  optimizer: Optimizer,\n",
        "  scheduler: LambdaLR,\n",
        "  callbacks = None\n",
        ") -> None:\n",
        "  model.train()\n",
        "\n",
        "  for inputs, targets in tqdm(dataloader, desc='train', leave=False):\n",
        "    # Move the data from CPU to GPU\n",
        "    inputs = inputs.cuda()\n",
        "    targets = targets.cuda()\n",
        "\n",
        "    # Reset the gradients (from the last iteration)\n",
        "    optimizer.zero_grad()\n",
        "\n",
        "    # Forward inference\n",
        "    outputs = model(inputs)\n",
        "    loss = criterion(outputs, targets)\n",
        "\n",
        "    # Backward propagation\n",
        "    loss.backward()\n",
        "\n",
        "    # Update optimizer and LR scheduler\n",
        "    optimizer.step()\n",
        "    scheduler.step()\n",
        "\n",
        "    if callbacks is not None:\n",
        "        for callback in callbacks:\n",
        "            callback()"
      ],
      "metadata": {
        "id": "WqnPt0LUEaWi"
      },
      "execution_count": null,
      "outputs": []
    },
    {
      "cell_type": "code",
      "source": [
        "@torch.inference_mode()\n",
        "def evaluate(\n",
        "  model: nn.Module,\n",
        "  dataloader: DataLoader,\n",
        "  extra_preprocess = None\n",
        ") -> float:\n",
        "  model.eval()\n",
        "\n",
        "  num_samples = 0\n",
        "  num_correct = 0\n",
        "\n",
        "  for inputs, targets in tqdm(dataloader, desc=\"eval\", leave=False):\n",
        "    # Move the data from CPU to GPU\n",
        "    inputs = inputs.cuda()\n",
        "    if extra_preprocess is not None:\n",
        "        for preprocess in extra_preprocess:\n",
        "            inputs = preprocess(inputs)\n",
        "\n",
        "    targets = targets.cuda()\n",
        "\n",
        "    # Inference\n",
        "    outputs = model(inputs)\n",
        "\n",
        "    # Convert logits to class indices\n",
        "    outputs = outputs.argmax(dim=1)\n",
        "\n",
        "    # Update metrics\n",
        "    num_samples += targets.size(0)\n",
        "    num_correct += (outputs == targets).sum()\n",
        "\n",
        "  return (num_correct / num_samples * 100).item()"
      ],
      "metadata": {
        "id": "wVA1_oeUEUf6"
      },
      "execution_count": null,
      "outputs": []
    },
    {
      "cell_type": "markdown",
      "source": [
        "Helpler Functions (Flops, Model Size calculation, etc.) "
      ],
      "metadata": {
        "id": "QBBKNhKNlAwE"
      }
    },
    {
      "cell_type": "code",
      "source": [
        "def get_model_flops(model, inputs):\n",
        "    num_macs = profile_macs(model, inputs)\n",
        "    return num_macs"
      ],
      "metadata": {
        "id": "mRdK_ThzlMxL"
      },
      "execution_count": null,
      "outputs": []
    },
    {
      "cell_type": "code",
      "source": [
        "def get_model_size(model: nn.Module, data_width=32):\n",
        "    \"\"\"\n",
        "    calculate the model size in bits\n",
        "    :param data_width: #bits per element\n",
        "    \"\"\"\n",
        "    num_elements = 0\n",
        "    for param in model.parameters():\n",
        "        num_elements += param.numel()\n",
        "    return num_elements * data_width\n",
        "\n",
        "Byte = 8\n",
        "KiB = 1024 * Byte\n",
        "MiB = 1024 * KiB\n",
        "GiB = 1024 * MiB"
      ],
      "metadata": {
        "id": "cepv4SUalU79"
      },
      "execution_count": null,
      "outputs": []
    },
    {
      "cell_type": "markdown",
      "source": [
        "Define misc funcions for verification."
      ],
      "metadata": {
        "id": "CGhomDjsaDB5"
      }
    },
    {
      "cell_type": "code",
      "source": [
        "def test_k_means_quantize(\n",
        "    test_tensor=torch.tensor([\n",
        "        [-0.3747,  0.0874,  0.3200, -0.4868,  0.4404],\n",
        "        [-0.0402,  0.2322, -0.2024, -0.4986,  0.1814],\n",
        "        [ 0.3102, -0.3942, -0.2030,  0.0883, -0.4741],\n",
        "        [-0.1592, -0.0777, -0.3946, -0.2128,  0.2675],\n",
        "        [ 0.0611, -0.1933, -0.4350,  0.2928, -0.1087]]),\n",
        "    bitwidth=2):\n",
        "    def plot_matrix(tensor, ax, title, cmap=ListedColormap(['white'])):\n",
        "        ax.imshow(tensor.cpu().numpy(), vmin=-0.5, vmax=0.5, cmap=cmap)\n",
        "        ax.set_title(title)\n",
        "        ax.set_yticklabels([])\n",
        "        ax.set_xticklabels([])\n",
        "        for i in range(tensor.shape[1]):\n",
        "            for j in range(tensor.shape[0]):\n",
        "                text = ax.text(j, i, f'{tensor[i, j].item():.2f}',\n",
        "                                ha=\"center\", va=\"center\", color=\"k\")\n",
        "        \n",
        "    fig, axes = plt.subplots(1,2, figsize=(8, 12))\n",
        "    ax_left, ax_right = axes.ravel()\n",
        "    \n",
        "    plot_matrix(test_tensor, ax_left, 'original tensor')\n",
        "\n",
        "    num_unique_values_before_quantization = test_tensor.unique().numel()\n",
        "    k_means_quantize(test_tensor, bitwidth=bitwidth)\n",
        "    num_unique_values_after_quantization = test_tensor.unique().numel()\n",
        "    print('* Test k_means_quantize()')\n",
        "    print(f'    target bitwidth: {bitwidth} bits')\n",
        "    print(f'        num unique values before k-means quantization: {num_unique_values_before_quantization}')\n",
        "    print(f'        num unique values after  k-means quantization: {num_unique_values_after_quantization}')\n",
        "    assert num_unique_values_after_quantization == min((1 << bitwidth), num_unique_values_before_quantization)\n",
        "    print('* Test passed.')\n",
        "\n",
        "    plot_matrix(test_tensor, ax_right, f'{bitwidth}-bit k-means quantized tensor', cmap='tab20c')\n",
        "    fig.tight_layout()\n",
        "    plt.show()"
      ],
      "metadata": {
        "id": "WOJBXVXQeCXF"
      },
      "execution_count": null,
      "outputs": []
    },
    {
      "cell_type": "code",
      "source": [
        "def test_linear_quantize(\n",
        "    test_tensor=torch.tensor([\n",
        "        [ 0.0523,  0.6364, -0.0968, -0.0020,  0.1940],\n",
        "        [ 0.7500,  0.5507,  0.6188, -0.1734,  0.4677],\n",
        "        [-0.0669,  0.3836,  0.4297,  0.6267, -0.0695],\n",
        "        [ 0.1536, -0.0038,  0.6075,  0.6817,  0.0601],\n",
        "        [ 0.6446, -0.2500,  0.5376, -0.2226,  0.2333]]),\n",
        "    quantized_test_tensor=torch.tensor([\n",
        "        [-1,  1, -1, -1,  0],\n",
        "        [ 1,  1,  1, -2,  0],\n",
        "        [-1,  0,  0,  1, -1],\n",
        "        [-1, -1,  1,  1, -1],\n",
        "        [ 1, -2,  1, -2,  0]], dtype=torch.int8),\n",
        "    real_min=-0.25, real_max=0.75, bitwidth=2, scale=1/3, zero_point=-1):\n",
        "    def plot_matrix(tensor, ax, title, vmin=0, vmax=1, cmap=ListedColormap(['white'])):\n",
        "        ax.imshow(tensor.cpu().numpy(), vmin=vmin, vmax=vmax, cmap=cmap)\n",
        "        ax.set_title(title)\n",
        "        ax.set_yticklabels([])\n",
        "        ax.set_xticklabels([])\n",
        "        for i in range(tensor.shape[0]):\n",
        "            for j in range(tensor.shape[1]):\n",
        "                datum = tensor[i, j].item()\n",
        "                if isinstance(datum, float):\n",
        "                    text = ax.text(j, i, f'{datum:.2f}',\n",
        "                                    ha=\"center\", va=\"center\", color=\"k\")\n",
        "                else:\n",
        "                    text = ax.text(j, i, f'{datum}',\n",
        "                                    ha=\"center\", va=\"center\", color=\"k\")\n",
        "    quantized_min, quantized_max = get_quantized_range(bitwidth)\n",
        "    fig, axes = plt.subplots(1,3, figsize=(10, 32))\n",
        "    plot_matrix(test_tensor, axes[0], 'original tensor', vmin=real_min, vmax=real_max)\n",
        "    _quantized_test_tensor = linear_quantize(\n",
        "        test_tensor, bitwidth=bitwidth, scale=scale, zero_point=zero_point)\n",
        "    _reconstructed_test_tensor = scale * (_quantized_test_tensor.float() - zero_point)\n",
        "    print('* Test linear_quantize()')\n",
        "    print(f'    target bitwidth: {bitwidth} bits')\n",
        "    print(f'        scale: {scale}')\n",
        "    print(f'        zero point: {zero_point}')\n",
        "    assert _quantized_test_tensor.equal(quantized_test_tensor)\n",
        "    print('* Test passed.')\n",
        "    plot_matrix(_quantized_test_tensor, axes[1], f'2-bit linear quantized tensor',\n",
        "                vmin=quantized_min, vmax=quantized_max, cmap='tab20c')\n",
        "    plot_matrix(_reconstructed_test_tensor, axes[2], f'reconstructed tensor',\n",
        "                vmin=real_min, vmax=real_max, cmap='tab20c')\n",
        "    fig.tight_layout()\n",
        "    plt.show()\n"
      ],
      "metadata": {
        "id": "jI92NMafaCk7"
      },
      "execution_count": null,
      "outputs": []
    },
    {
      "cell_type": "code",
      "source": [
        "def test_quantized_fc(\n",
        "    input=torch.tensor([\n",
        "        [0.6118, 0.7288, 0.8511, 0.2849, 0.8427, 0.7435, 0.4014, 0.2794],\n",
        "        [0.3676, 0.2426, 0.1612, 0.7684, 0.6038, 0.0400, 0.2240, 0.4237],\n",
        "        [0.6565, 0.6878, 0.4670, 0.3470, 0.2281, 0.8074, 0.0178, 0.3999],\n",
        "        [0.1863, 0.3567, 0.6104, 0.0497, 0.0577, 0.2990, 0.6687, 0.8626]]),\n",
        "    weight=torch.tensor([\n",
        "        [ 1.2626e-01, -1.4752e-01,  8.1910e-02,  2.4982e-01, -1.0495e-01,\n",
        "         -1.9227e-01, -1.8550e-01, -1.5700e-01],\n",
        "        [ 2.7624e-01, -4.3835e-01,  5.1010e-02, -1.2020e-01, -2.0344e-01,\n",
        "          1.0202e-01, -2.0799e-01,  2.4112e-01],\n",
        "        [-3.8216e-01, -2.8047e-01,  8.5238e-02, -4.2504e-01, -2.0952e-01,\n",
        "          3.2018e-01, -3.3619e-01,  2.0219e-01],\n",
        "        [ 8.9233e-02, -1.0124e-01,  1.1467e-01,  2.0091e-01,  1.1438e-01,\n",
        "         -4.2427e-01,  1.0178e-01, -3.0941e-04],\n",
        "        [-1.8837e-02, -2.1256e-01, -4.5285e-01,  2.0949e-01, -3.8684e-01,\n",
        "         -1.7100e-01, -4.5331e-01, -2.0433e-01],\n",
        "        [-2.0038e-01, -5.3757e-02,  1.8997e-01, -3.6866e-01,  5.5484e-02,\n",
        "          1.5643e-01, -2.3538e-01,  2.1103e-01],\n",
        "        [-2.6875e-01,  2.4984e-01, -2.3514e-01,  2.5527e-01,  2.0322e-01,\n",
        "          3.7675e-01,  6.1563e-02,  1.7201e-01],\n",
        "        [ 3.3541e-01, -3.3555e-01, -4.3349e-01,  4.3043e-01, -2.0498e-01,\n",
        "         -1.8366e-01, -9.1553e-02, -4.1168e-01]]),\n",
        "    bias=torch.tensor([ 0.1954, -0.2756,  0.3113,  0.1149,  0.4274,  0.2429, -0.1721, -0.2502]),\n",
        "    quantized_bias=torch.tensor([ 3, -2,  3,  1,  3,  2, -2, -2], dtype=torch.int32),\n",
        "    shifted_quantized_bias=torch.tensor([-1,  0, -3, -1, -3,  0,  2, -4], dtype=torch.int32),\n",
        "    calc_quantized_output=torch.tensor([\n",
        "        [ 0, -1,  0, -1, -1,  0,  1, -2],\n",
        "        [ 0,  0, -1,  0,  0,  0,  0, -1],\n",
        "        [ 0,  0,  0, -1,  0,  0,  0, -1],\n",
        "        [ 0,  0,  0,  0,  0,  1, -1, -2]], dtype=torch.int8),\n",
        "    bitwidth=2, batch_size=4, in_channels=8, out_channels=8):\n",
        "    def plot_matrix(tensor, ax, title, vmin=0, vmax=1, cmap=ListedColormap(['white'])):\n",
        "        ax.imshow(tensor.cpu().numpy(), vmin=vmin, vmax=vmax, cmap=cmap)\n",
        "        ax.set_title(title)\n",
        "        ax.set_yticklabels([])\n",
        "        ax.set_xticklabels([])\n",
        "        for i in range(tensor.shape[0]):\n",
        "            for j in range(tensor.shape[1]):\n",
        "                datum = tensor[i, j].item()\n",
        "                if isinstance(datum, float):\n",
        "                    text = ax.text(j, i, f'{datum:.2f}',\n",
        "                                    ha=\"center\", va=\"center\", color=\"k\")\n",
        "                else:\n",
        "                    text = ax.text(j, i, f'{datum}',\n",
        "                                    ha=\"center\", va=\"center\", color=\"k\")\n",
        "\n",
        "    output = torch.nn.functional.linear(input, weight, bias)\n",
        "\n",
        "    quantized_weight, weight_scale, weight_zero_point = \\\n",
        "        linear_quantize_weight_per_channel(weight, bitwidth)\n",
        "    quantized_input, input_scale, input_zero_point = \\\n",
        "        linear_quantize_feature(input, bitwidth)\n",
        "    _quantized_bias, bias_scale, bias_zero_point = \\\n",
        "        linear_quantize_bias_per_output_channel(bias, weight_scale, input_scale)\n",
        "    assert _quantized_bias.equal(_quantized_bias)\n",
        "    _shifted_quantized_bias = \\\n",
        "        shift_quantized_linear_bias(quantized_bias, quantized_weight, input_zero_point)\n",
        "    assert _shifted_quantized_bias.equal(shifted_quantized_bias)\n",
        "    quantized_output, output_scale, output_zero_point = \\\n",
        "        linear_quantize_feature(output, bitwidth)\n",
        "\n",
        "    _calc_quantized_output = quantized_linear(\n",
        "        quantized_input, quantized_weight, shifted_quantized_bias,\n",
        "        bitwidth, bitwidth,\n",
        "        input_zero_point, output_zero_point,\n",
        "        input_scale, weight_scale, output_scale)\n",
        "    assert _calc_quantized_output.equal(calc_quantized_output)\n",
        "\n",
        "    reconstructed_weight = weight_scale * (quantized_weight.float() - weight_zero_point)\n",
        "    reconstructed_input = input_scale * (quantized_input.float() - input_zero_point)\n",
        "    reconstructed_bias = bias_scale * (quantized_bias.float() - bias_zero_point)\n",
        "    reconstructed_calc_output = output_scale * (calc_quantized_output.float() - output_zero_point)\n",
        "\n",
        "    fig, axes = plt.subplots(3,3, figsize=(15, 12))\n",
        "    quantized_min, quantized_max = get_quantized_range(bitwidth)\n",
        "    plot_matrix(weight, axes[0, 0], 'original weight', vmin=-0.5, vmax=0.5)\n",
        "    plot_matrix(input.t(), axes[1, 0], 'original input', vmin=0, vmax=1)\n",
        "    plot_matrix(output.t(), axes[2, 0], 'original output', vmin=-1.5, vmax=1.5)\n",
        "    plot_matrix(quantized_weight, axes[0, 1], f'{bitwidth}-bit linear quantized weight',\n",
        "                vmin=quantized_min, vmax=quantized_max, cmap='tab20c')\n",
        "    plot_matrix(quantized_input.t(), axes[1, 1], f'{bitwidth}-bit linear quantized input',\n",
        "                vmin=quantized_min, vmax=quantized_max, cmap='tab20c')\n",
        "    plot_matrix(calc_quantized_output.t(), axes[2, 1], f'quantized output from quantized_linear()',\n",
        "                vmin=quantized_min, vmax=quantized_max, cmap='tab20c')\n",
        "    plot_matrix(reconstructed_weight, axes[0, 2], f'reconstructed weight',\n",
        "                vmin=-0.5, vmax=0.5, cmap='tab20c')\n",
        "    plot_matrix(reconstructed_input.t(), axes[1, 2], f'reconstructed input',\n",
        "                vmin=0, vmax=1, cmap='tab20c')\n",
        "    plot_matrix(reconstructed_calc_output.t(), axes[2, 2], f'reconstructed output',\n",
        "                vmin=-1.5, vmax=1.5, cmap='tab20c')\n",
        "\n",
        "    print('* Test quantized_fc()')\n",
        "    print(f'    target bitwidth: {bitwidth} bits')\n",
        "    print(f'      batch size: {batch_size}')\n",
        "    print(f'      input channels: {in_channels}')\n",
        "    print(f'      output channels: {out_channels}')\n",
        "    print('* Test passed.')\n",
        "    fig.tight_layout()\n",
        "    plt.show()"
      ],
      "metadata": {
        "id": "vK-56lHteduz"
      },
      "execution_count": null,
      "outputs": []
    },
    {
      "cell_type": "markdown",
      "source": [
        "Load Pretrained Model"
      ],
      "metadata": {
        "id": "mDDp0OWLh6vK"
      }
    },
    {
      "cell_type": "code",
      "source": [
        "checkpoint_url = \"https://hanlab.mit.edu/files/course/labs/vgg.cifar.pretrained.pth\"\n",
        "checkpoint = torch.load(download_url(checkpoint_url), map_location=\"cpu\")\n",
        "model = VGG().cuda()\n",
        "print(f\"=> loading checkpoint '{checkpoint_url}'\")\n",
        "model.load_state_dict(checkpoint['state_dict'])\n",
        "recover_model = lambda : model.load_state_dict(checkpoint['state_dict'])"
      ],
      "metadata": {
        "id": "oNEYAZ_TQf7d"
      },
      "execution_count": null,
      "outputs": []
    },
    {
      "cell_type": "code",
      "source": [
        "image_size = 32\n",
        "transforms = {\n",
        "    \"train\": Compose([\n",
        "        RandomCrop(image_size, padding=4),\n",
        "        RandomHorizontalFlip(),\n",
        "        ToTensor(),\n",
        "    ]),\n",
        "    \"test\": ToTensor(),\n",
        "}\n",
        "dataset = {}\n",
        "for split in [\"train\", \"test\"]:\n",
        "  dataset[split] = CIFAR10(\n",
        "    root=\"data/cifar10\",\n",
        "    train=(split == \"train\"),\n",
        "    download=True,\n",
        "    transform=transforms[split],\n",
        "  )\n",
        "dataloader = {}\n",
        "for split in ['train', 'test']:\n",
        "  dataloader[split] = DataLoader(\n",
        "    dataset[split],\n",
        "    batch_size=512,\n",
        "    shuffle=(split == 'train'),\n",
        "    num_workers=0,\n",
        "    pin_memory=True,\n",
        "  )"
      ],
      "metadata": {
        "id": "jQb3_6zlQfib"
      },
      "execution_count": null,
      "outputs": []
    },
    {
      "cell_type": "markdown",
      "source": [
        "# Let's First Evaluate the Accuracy and Model Size of the FP32 Model"
      ],
      "metadata": {
        "id": "rjESsg5nkdBG"
      }
    },
    {
      "cell_type": "code",
      "source": [
        "fp32_model_accuracy = evaluate(model, dataloader['test'])\n",
        "fp32_model_size = get_model_size(model)\n",
        "print(f\"fp32 model has accuracy={fp32_model_accuracy:.2f}%\")\n",
        "print(f\"fp32 model has size={fp32_model_size/MiB:.2f} MiB\")"
      ],
      "metadata": {
        "id": "DTiA8hxMkkbU"
      },
      "execution_count": null,
      "outputs": []
    },
    {
      "cell_type": "markdown",
      "source": [
        "# K-Means Quantization"
      ],
      "metadata": {
        "id": "6QdGiddu87p2"
      }
    },
    {
      "cell_type": "markdown",
      "source": [
        "Network quantization compresses the network by reducing the bits per weight required to represent the deep network. The quantized network can have a faster inference speed with hardware support."
      ],
      "metadata": {
        "id": "Gr0MvPoVTirU"
      }
    },
    {
      "cell_type": "markdown",
      "source": [
        "In this section, we will explore the K-means quantization for neural networks as in [Deep Compression: Compressing Deep Neural Networks With Pruning, Trained Quantization\n",
        "And Huffman Coding](https://arxiv.org/pdf/1510.00149.pdf).\n"
      ],
      "metadata": {
        "id": "lzlKpiNvY3lc"
      }
    },
    {
      "cell_type": "markdown",
      "source": [
        "![kmeans.png](data:image/png;base64,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)"
      ],
      "metadata": {
        "id": "KDoR8iXP0VDG"
      }
    },
    {
      "cell_type": "markdown",
      "source": [
        "A $n$-bit k-means quantization will divide synapses into $2^n$ clusters, and synapses in the same cluster will share the same weight value.\n",
        "\n",
        "Therefore, k-means quantization will create a codebook, inlcuding\n",
        "*   `centroids`: $2^n$ fp32 cluster centers.\n",
        "*   `labels`: a $n$-bit integer tensor with the same #elements of the original fp32 weights tensor. Each integer indicates which cluster it belongs to.\n",
        "\n",
        "During the inference, a fp32 tensor is generated based on the codebook for inference:\n",
        "\n",
        "> ***quantized_weight* = *codebook.centroids*\\[*codebook.labels*\\].view_as(weight)**"
      ],
      "metadata": {
        "id": "mGkEk4CX0VIe"
      }
    },
    {
      "cell_type": "code",
      "source": [
        "from collections import namedtuple\n",
        "\n",
        "Codebook = namedtuple('Codebook', ['centroids', 'labels'])"
      ],
      "metadata": {
        "id": "Z2x1DbpfT3SD"
      },
      "execution_count": null,
      "outputs": []
    },
    {
      "cell_type": "markdown",
      "source": [
        "## Question 1 (10 pts)\n",
        "\n",
        "Please complete the following K-Means quantization function."
      ],
      "metadata": {
        "id": "f3BczeDEN0y6"
      }
    },
    {
      "cell_type": "code",
      "source": [
        "from fast_pytorch_kmeans import KMeans\n",
        "\n",
        "def k_means_quantize(fp32_tensor: torch.Tensor, bitwidth=4, codebook=None):\n",
        "    \"\"\"\n",
        "    quantize tensor using k-means clustering\n",
        "    :param fp32_tensor:\n",
        "    :param bitwidth: [int] quantization bit width, default=4\n",
        "    :param codebook: [Codebook] (the cluster centroids, the cluster label tensor)\n",
        "    :return:\n",
        "        [Codebook = (centroids, labels)]\n",
        "            centroids: [torch.(cuda.)FloatTensor] the cluster centroids\n",
        "            labels: [torch.(cuda.)LongTensor] cluster label tensor\n",
        "    \"\"\"\n",
        "    if codebook is None:\n",
        "        ############### YOUR CODE STARTS HERE ###############\n",
        "        # get number of clusters based on the quantization precision\n",
        "        # hint: one line of code\n",
        "        n_clusters = 0\n",
        "        ############### YOUR CODE ENDS HERE #################\n",
        "        # use k-means to get the quantization centroids\n",
        "        kmeans = KMeans(n_clusters=n_clusters, mode='euclidean', verbose=0)\n",
        "        labels = kmeans.fit_predict(fp32_tensor.view(-1, 1)).to(torch.long)\n",
        "        centroids = kmeans.centroids.to(torch.float).view(-1)\n",
        "        codebook = Codebook(centroids, labels)\n",
        "    ############### YOUR CODE STARTS HERE ###############\n",
        "    # decode the codebook into k-means quantized tensor for inference\n",
        "    # hint: one line of code\n",
        "    quantized_tensor = 0\n",
        "    ############### YOUR CODE ENDS HERE #################\n",
        "    fp32_tensor.set_(quantized_tensor.view_as(fp32_tensor))\n",
        "    return codebook"
      ],
      "metadata": {
        "id": "bnZ2b4hgOnoC"
      },
      "execution_count": null,
      "outputs": []
    },
    {
      "cell_type": "markdown",
      "source": [
        "Let's verify the functionality of defined k-means quantization by applying the function above on a dummy tensor."
      ],
      "metadata": {
        "id": "XlVfIFRYPbfc"
      }
    },
    {
      "cell_type": "code",
      "source": [
        "test_k_means_quantize()"
      ],
      "metadata": {
        "id": "WZd8z1vGPdG8"
      },
      "execution_count": null,
      "outputs": []
    },
    {
      "cell_type": "markdown",
      "source": [
        "## Question 2 (10 pts)"
      ],
      "metadata": {
        "id": "O4FIfKk8JQX5"
      }
    },
    {
      "cell_type": "markdown",
      "source": [
        "The last code cell performs 2-bit k-means quantization and plots the tensor before and after the quantization. Each cluster is rendered with a unique color. There are 4 unique colors rendered in the quantized tensor.\n",
        "\n",
        "Given this observation, please answer the following questions."
      ],
      "metadata": {
        "id": "o5mT6vV_JS5w"
      }
    },
    {
      "cell_type": "markdown",
      "source": [
        "### Question 2.1 (5 pts)\n",
        "\n",
        "If 4-bit k-means quantization is performed, how many unique colors will be rendered in the quantized tensor?"
      ],
      "metadata": {
        "id": "DwERfTxNKFqa"
      }
    },
    {
      "cell_type": "markdown",
      "source": [
        "**Your Answer:**"
      ],
      "metadata": {
        "id": "0PGiy4rGKPbe"
      }
    },
    {
      "cell_type": "markdown",
      "source": [
        "### Question 2.2 (5 pts)\n",
        "\n",
        "If *n*-bit k-means quantization is performed, how many unique colors will be rendered in the quantized tensor?"
      ],
      "metadata": {
        "id": "Dt1ZGParKRWD"
      }
    },
    {
      "cell_type": "markdown",
      "source": [
        "**Your Answer:**"
      ],
      "metadata": {
        "id": "gK8v80tnKZHa"
      }
    },
    {
      "cell_type": "markdown",
      "source": [
        "## K-Means Quantization on Whole Model\n",
        "\n",
        "Similar to what we did in lab 1, we now wrap the k-means quantization function into a class for quantizing the whole model. In class `KMeansQuantizer`, we have to keep a record of the codebooks (i.e., `centroids` and `labels`) so that we could apply or update the codebooks whenever the model weights change."
      ],
      "metadata": {
        "id": "Aa7KVrLrSlNb"
      }
    },
    {
      "cell_type": "code",
      "source": [
        "from torch.nn import parameter\n",
        "class KMeansQuantizer:\n",
        "    def __init__(self, model : nn.Module, bitwidth=4):\n",
        "        self.codebook = KMeansQuantizer.quantize(model, bitwidth)\n",
        "    \n",
        "    @torch.no_grad()\n",
        "    def apply(self, model, update_centroids):\n",
        "        for name, param in model.named_parameters():\n",
        "            if name in self.codebook:\n",
        "                if update_centroids:\n",
        "                    update_codebook(param, codebook=self.codebook[name])\n",
        "                self.codebook[name] = k_means_quantize(\n",
        "                    param, codebook=self.codebook[name])\n",
        "\n",
        "    @staticmethod\n",
        "    @torch.no_grad()\n",
        "    def quantize(model: nn.Module, bitwidth=4):\n",
        "        codebook = dict()\n",
        "        if isinstance(bitwidth, dict):\n",
        "            for name, param in model.named_parameters():\n",
        "                if name in bitwidth:\n",
        "                    codebook[name] = k_means_quantize(param, bitwidth=bitwidth[name])\n",
        "        else:\n",
        "            for name, param in model.named_parameters():\n",
        "                if param.dim() > 1:\n",
        "                    codebook[name] = k_means_quantize(param, bitwidth=bitwidth)\n",
        "        return codebook"
      ],
      "metadata": {
        "id": "eaMAP465Te-p"
      },
      "execution_count": null,
      "outputs": []
    },
    {
      "cell_type": "markdown",
      "source": [
        "Now let's quantize model into 8 bits, 4 bits and 2 bits using K-Means Quantization. *Note that we ignore the storage for codebooks when calculating the model size.*"
      ],
      "metadata": {
        "id": "od8iy9KjVhlT"
      }
    },
    {
      "cell_type": "code",
      "source": [
        "print('Note that the storage for codebooks is ignored when calculating the model size.')\n",
        "quantizers = dict()\n",
        "for bitwidth in [8, 4, 2]:\n",
        "    recover_model()\n",
        "    print(f'k-means quantizing model into {bitwidth} bits')\n",
        "    quantizer = KMeansQuantizer(model, bitwidth)\n",
        "    quantized_model_size = get_model_size(model, bitwidth)\n",
        "    print(f\"    {bitwidth}-bit k-means quantized model has size={quantized_model_size/MiB:.2f} MiB\")\n",
        "    quantized_model_accuracy = evaluate(model, dataloader['test'])\n",
        "    print(f\"    {bitwidth}-bit k-means quantized model has accuracy={quantized_model_accuracy:.2f}%\")\n",
        "    quantizers[bitwidth] = quantizer"
      ],
      "metadata": {
        "id": "CCI9sCUmVre-"
      },
      "execution_count": null,
      "outputs": []
    },
    {
      "cell_type": "markdown",
      "source": [
        "## Trained K-Means Quantization\n",
        "\n",
        "As we can see from the results of last cell, the accuracy significantly drops when quantizing the model into lower bits. Therefore, we have to perform quantization-aware training to recover the accuracy.\n",
        "\n",
        "During the k-means quantization-aware training, the centroids are also updated, which is proposed in [Deep Compression: Compressing Deep Neural Networks With Pruning, Trained Quantization\n",
        "And Huffman Coding](https://arxiv.org/pdf/1510.00149.pdf).\n",
        "\n",
        "The gradient for the centroids is calculated as,\n",
        "\n",
        "> $\\frac{\\partial \\mathcal{L} }{\\partial C_k} = \\sum_{j} \\frac{\\partial \\mathcal{L} }{\\partial W_{j}} \\frac{\\partial W_{j} }{\\partial C_k} = \\sum_{j} \\frac{\\partial \\mathcal{L} }{\\partial W_{j}} \\mathbf{1}(I_{j}=k)$\n",
        "\n",
        "where $\\mathcal{L}$ is the loss, $C_k$ is *k*-th centroid, $I_{j}$ is the label for weight $W_{j}$. $\\mathbf{1}()$ is the indicator function, and $\\mathbf{1}(I_{j}=k)$ means $1\\;\\mathrm{if}\\;I_{j}=k\\;\\mathrm{else}\\;0$, *i.e.*, $I_{j}==k$.\n",
        "\n",
        "That is, we could update the centroids according to the latest weights:\n",
        "\n",
        "> $C_k = \\frac{\\sum_{j}W_{j}\\mathbf{1}(I_{j}=k)}{\\sum_{j}\\mathbf{1}(I_{j}=k)}$"
      ],
      "metadata": {
        "id": "4jj3FnIIWVq0"
      }
    },
    {
      "cell_type": "markdown",
      "source": [
        "![trainedkmeans.png](data:image/png;base64,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)"
      ],
      "metadata": {
        "id": "nF4tYlpo0beL"
      }
    },
    {
      "cell_type": "markdown",
      "source": [
        "### Question 3 (10 pts)\n",
        "\n",
        "Please complete the following codebook update function.\n",
        "\n",
        "**Hint**:\n",
        "\n",
        "The above equation for updating centroids is indeed using the `mean` of weights in the same cluster to be the updated centroid value."
      ],
      "metadata": {
        "id": "Q_hfG16fLVda"
      }
    },
    {
      "cell_type": "code",
      "source": [
        "def update_codebook(fp32_tensor: torch.Tensor, codebook: Codebook):\n",
        "    \"\"\"\n",
        "    update the centroids in the codebook using updated fp32_tensor\n",
        "    :param fp32_tensor: [torch.(cuda.)Tensor] \n",
        "    :param codebook: [Codebook] (the cluster centroids, the cluster label tensor)\n",
        "    \"\"\"\n",
        "    n_clusters = codebook.centroids.numel()\n",
        "    fp32_tensor = fp32_tensor.view(-1)\n",
        "    for k in range(n_clusters):\n",
        "    ############### YOUR CODE STARTS HERE ###############\n",
        "        # hint: one line of code\n",
        "        codebook.centroids[k] = 0\n",
        "    ############### YOUR CODE ENDS HERE #################"
      ],
      "metadata": {
        "id": "t8_FfiUf_1ZM"
      },
      "execution_count": null,
      "outputs": []
    },
    {
      "cell_type": "markdown",
      "source": [
        "Now let's run the following code cell to finetune the k-means quantized model to recover the accuracy. We will stop finetuning if accuracy drop is less than 0.5."
      ],
      "metadata": {
        "id": "Ho4RDW0ccw4f"
      }
    },
    {
      "cell_type": "code",
      "source": [
        "accuracy_drop_threshold = 0.5\n",
        "quantizers_before_finetune = copy.deepcopy(quantizers)\n",
        "quantizers_after_finetune = quantizers\n",
        "\n",
        "for bitwidth in [8, 4, 2]:\n",
        "    recover_model()\n",
        "    quantizer = quantizers[bitwidth]\n",
        "    print(f'k-means quantizing model into {bitwidth} bits')\n",
        "    quantizer.apply(model, update_centroids=False)\n",
        "    quantized_model_size = get_model_size(model, bitwidth)\n",
        "    print(f\"    {bitwidth}-bit k-means quantized model has size={quantized_model_size/MiB:.2f} MiB\")\n",
        "    quantized_model_accuracy = evaluate(model, dataloader['test'])\n",
        "    print(f\"    {bitwidth}-bit k-means quantized model has accuracy={quantized_model_accuracy:.2f}% before quantization-aware training \")\n",
        "    accuracy_drop = fp32_model_accuracy - quantized_model_accuracy\n",
        "    if accuracy_drop > accuracy_drop_threshold:\n",
        "        print(f\"        Quantization-aware training due to accuracy drop={accuracy_drop:.2f}% is larger than threshold={accuracy_drop_threshold:.2f}%\")\n",
        "        num_finetune_epochs = 5\n",
        "        optimizer = torch.optim.SGD(model.parameters(), lr=0.01, momentum=0.9)\n",
        "        scheduler = torch.optim.lr_scheduler.CosineAnnealingLR(optimizer, num_finetune_epochs)\n",
        "        criterion = nn.CrossEntropyLoss()\n",
        "        best_accuracy = 0\n",
        "        epoch = num_finetune_epochs\n",
        "        while accuracy_drop > accuracy_drop_threshold and epoch > 0:\n",
        "            train(model, dataloader['train'], criterion, optimizer, scheduler,\n",
        "                  callbacks=[lambda: quantizer.apply(model, update_centroids=True)])\n",
        "            model_accuracy = evaluate(model, dataloader['test'])\n",
        "            is_best = model_accuracy > best_accuracy\n",
        "            best_accuracy = max(model_accuracy, best_accuracy)\n",
        "            print(f'        Epoch {num_finetune_epochs-epoch} Accuracy {model_accuracy:.2f}% / Best Accuracy: {best_accuracy:.2f}%')\n",
        "            accuracy_drop = fp32_model_accuracy - best_accuracy\n",
        "            epoch -= 1\n",
        "    else:\n",
        "        print(f\"        No need for quantization-aware training since accuracy drop={accuracy_drop:.2f}% is smaller than threshold={accuracy_drop_threshold:.2f}%\")"
      ],
      "metadata": {
        "id": "DR1Fu6Arfgnk"
      },
      "execution_count": null,
      "outputs": []
    },
    {
      "cell_type": "markdown",
      "source": [
        "# Linear Quantization"
      ],
      "metadata": {
        "id": "USisw8QcnPNP"
      }
    },
    {
      "cell_type": "markdown",
      "source": [
        "In this section, we will implement and perform linear quantization. \n",
        "\n",
        "Linear quantization directly rounds the floating-point value into the nearest quantized integer after range truncation and scaling.\n",
        "\n",
        "[Linear quantization](https://arxiv.org/pdf/1712.05877.pdf) can be represented as\n",
        "\n",
        "$r = S(q-Z)$\n",
        "\n",
        "where $r$ is a floating point real number, $q$ is a *n*-bit integer, $Z$ is a *n*-bit integer, and $S$ is a floating point real number. $Z$ is quantization zero point and $S$ is quantization scaling factor. Both constant $Z$ and $S$ are quantization parameters."
      ],
      "metadata": {
        "id": "sEzwgl9mZ6F2"
      }
    },
    {
      "cell_type": "markdown",
      "source": [
        "## *n*-bit Integer\n",
        "\n",
        "A *n*-bit signed integer is usually represented in [two's complement](https://en.wikipedia.org/wiki/Two%27s_complement) notation. \n",
        "\n",
        "A *n*-bit signed integer can enode integers in the range $[-2^{n-1}, 2^{n-1}-1]$. For example, a 8-bit integer falls in the range [-128, 127]."
      ],
      "metadata": {
        "id": "c6vO1_VBdTzs"
      }
    },
    {
      "cell_type": "code",
      "source": [
        "def get_quantized_range(bitwidth):\n",
        "    quantized_max = (1 << (bitwidth - 1)) - 1\n",
        "    quantized_min = -(1 << (bitwidth - 1))\n",
        "    return quantized_min, quantized_max"
      ],
      "metadata": {
        "id": "uz51HcD8dTIb"
      },
      "execution_count": null,
      "outputs": []
    },
    {
      "cell_type": "markdown",
      "source": [
        "## **Question 4** (15 pts)\n",
        "\n",
        "Please complete the following linear quantization function.\n",
        "\n",
        "**Hint**:\n",
        "*   From $r=S(q-Z)$, we have $q = r/S + Z$.\n",
        "*   Both $r$ and $S$ are floating numbers, and thus we cannot directly add integer $Z$ to $r/S$. Therefore $q = \\mathrm{int}(\\mathrm{round}(r/S)) + Z$.\n",
        "*   To convert [`torch.FloatTensor`](https://pytorch.org/docs/stable/tensors.html) to [`torch.IntTensor`](https://pytorch.org/docs/stable/tensors.html), we could use [`torch.round()`](https://pytorch.org/docs/stable/generated/torch.round.html#torch.round), [`torch.Tensor.round()`](https://pytorch.org/docs/stable/generated/torch.Tensor.round.html#torch.Tensor.round), [`torch.Tensor.round_()`](https://pytorch.org/docs/stable/generated/torch.Tensor.round_) to first convert all values to floating integer, and then use [`torch.Tensor.to(torch.int8)`](https://pytorch.org/docs/stable/generated/torch.Tensor.to.html#torch.Tensor.to) to convert the data type from [`torch.float`](https://pytorch.org/docs/stable/tensors.html) to [`torch.int8`](https://pytorch.org/docs/stable/tensors.html). \n",
        "\n"
      ],
      "metadata": {
        "id": "FSRwyEWrnA7o"
      }
    },
    {
      "cell_type": "code",
      "source": [
        "def linear_quantize(fp_tensor, bitwidth, scale, zero_point, dtype=torch.int8) -> torch.Tensor:\n",
        "    \"\"\"\n",
        "    linear quantization for single fp_tensor\n",
        "      from\n",
        "        fp_tensor = (quantized_tensor - zero_point) * scale\n",
        "      we have,\n",
        "        quantized_tensor = int(round(fp_tensor / scale)) + zero_point\n",
        "    :param tensor: [torch.(cuda.)FloatTensor] floating tensor to be quantized\n",
        "    :param bitwidth: [int] quantization bit width\n",
        "    :param scale: [torch.(cuda.)FloatTensor] scaling factor\n",
        "    :param zero_point: [torch.(cuda.)IntTensor] the desired centroid of tensor values\n",
        "    :return:\n",
        "        [torch.(cuda.)FloatTensor] quantized tensor whose values are integers\n",
        "    \"\"\"\n",
        "    assert(fp_tensor.dtype == torch.float)\n",
        "    assert(isinstance(scale, float) or \n",
        "           (scale.dtype == torch.float and scale.dim() == fp_tensor.dim()))\n",
        "    assert(isinstance(zero_point, int) or \n",
        "           (zero_point.dtype == dtype and zero_point.dim() == fp_tensor.dim()))\n",
        "\n",
        "    ############### YOUR CODE STARTS HERE ###############\n",
        "    # Step 1: scale the fp_tensor\n",
        "    scaled_tensor = 0\n",
        "    # Step 2: round the floating value to integer value\n",
        "    rounded_tensor = 0\n",
        "    ############### YOUR CODE ENDS HERE #################\n",
        "\n",
        "    rounded_tensor = rounded_tensor.to(dtype)\n",
        "\n",
        "    ############### YOUR CODE STARTS HERE ###############\n",
        "    # Step 3: shift the rounded_tensor to make zero_point 0\n",
        "    shifted_tensor = 0\n",
        "    ############### YOUR CODE ENDS HERE #################\n",
        "\n",
        "    # Step 4: clamp the shifted_tensor to lie in bitwidth-bit range\n",
        "    quantized_min, quantized_max = get_quantized_range(bitwidth)\n",
        "    quantized_tensor = shifted_tensor.clamp_(quantized_min, quantized_max)\n",
        "    return quantized_tensor"
      ],
      "metadata": {
        "id": "1vg4SfIJYFUq"
      },
      "execution_count": null,
      "outputs": []
    },
    {
      "cell_type": "markdown",
      "source": [
        "Let's verify the functionality of defined linear quantization by applying the function above on a dummy tensor."
      ],
      "metadata": {
        "id": "Qn-OU5z9IAtr"
      }
    },
    {
      "cell_type": "code",
      "source": [
        "test_linear_quantize()"
      ],
      "metadata": {
        "id": "10sN7WRNAWCc"
      },
      "execution_count": null,
      "outputs": []
    },
    {
      "cell_type": "markdown",
      "source": [
        "## Question 5 (10 pts)\n",
        "\n",
        "Now we have to determine the scaling factor $S$ and zero point $Z$ for linear quantization.\n",
        "\n",
        "Recall that [linear quantization](https://arxiv.org/pdf/1712.05877.pdf) can be represented as\n",
        "\n",
        "$r = S(q-Z)$"
      ],
      "metadata": {
        "id": "y9WBvG1jnhEz"
      }
    },
    {
      "cell_type": "markdown",
      "source": [
        "### Scale\n",
        "\n",
        "Linear quantization projects the floating point range [*fp_min*, *fp_max*] to the quantized range [*quantized_min*, *quantized_max*]. That is to say,\n",
        "\n",
        "> $r_{\\mathrm{max}} = S(q_{\\mathrm{max}}-Z)$\n",
        "> \n",
        "> $r_{\\mathrm{min}} = S(q_{\\mathrm{min}}-Z)$\n",
        "\n",
        "Substracting these two equations, we have,\n"
      ],
      "metadata": {
        "id": "lLgyax_fgrS1"
      }
    },
    {
      "cell_type": "markdown",
      "source": [
        "#### Question 5.1 (1 pts)\n",
        "\n",
        "Please select the correct answer and delete the wrong answers in the next text cell."
      ],
      "metadata": {
        "id": "PkSalSPzSwN2"
      }
    },
    {
      "cell_type": "markdown",
      "source": [
        "> $S=r_{\\mathrm{max}} / q_{\\mathrm{max}}$\n",
        "\n",
        "> $S=(r_{\\mathrm{max}} + r_{\\mathrm{min}}) / (q_{\\mathrm{max}} + q_{\\mathrm{min}})$\n",
        "\n",
        "> $S=(r_{\\mathrm{max}} - r_{\\mathrm{min}}) / (q_{\\mathrm{max}} - q_{\\mathrm{min}})$\n",
        "\n",
        "> $S=r_{\\mathrm{max}} / q_{\\mathrm{max}} - r_{\\mathrm{min}} / q_{\\mathrm{min}}$"
      ],
      "metadata": {
        "id": "dctWTxHaTnUy"
      }
    },
    {
      "cell_type": "markdown",
      "source": [
        "\n",
        "There are different approaches to determine the $r_{\\mathrm{min}}$ and  $r_{\\mathrm{max}}$ of a floating point tensor `fp_tensor`.\n",
        "\n",
        "*   The most common method is directly using the minimum and maximum value of `fp_tensor`.\n",
        "*   Another widely used method is minimizing Kullback-Leibler-J divergence to determine the *fp_max*."
      ],
      "metadata": {
        "id": "WWfff4eISuES"
      }
    },
    {
      "cell_type": "markdown",
      "source": [
        "### zero point\n",
        "\n",
        "Once we determine the scaling factor $S$, we can directly use the relationship between $r_{\\mathrm{min}}$ and $q_{\\mathrm{min}}$ to calculate the zero point $Z$. "
      ],
      "metadata": {
        "id": "SSb42B8Gjlpa"
      }
    },
    {
      "cell_type": "markdown",
      "source": [
        "#### Question 5.2 (1 pts)\n",
        "\n",
        "Please select the correct answer and delete the wrong answers in the next text cell."
      ],
      "metadata": {
        "id": "u13Wmw_8TdDA"
      }
    },
    {
      "cell_type": "markdown",
      "source": [
        "> $Z = \\mathrm{int}(\\mathrm{round}(r_{\\mathrm{min}} / S - q_{\\mathrm{min}})$\n",
        "\n",
        "> $Z = \\mathrm{int}(\\mathrm{round}(q_{\\mathrm{min}} - r_{\\mathrm{min}} / S))$\n",
        "\n",
        "> $Z = q_{\\mathrm{min}} - r_{\\mathrm{min}} / S$\n",
        "\n",
        "> $Z = r_{\\mathrm{min}} / S - q_{\\mathrm{min}}$"
      ],
      "metadata": {
        "id": "uD3Q_FfSTwIL"
      }
    },
    {
      "cell_type": "markdown",
      "source": [
        "### Question 5.3 (8 pts)\n",
        "\n",
        "Please complete the following function for calculating the scale $S$ and zero point $Z$ from floating point tensor $r$.\n"
      ],
      "metadata": {
        "id": "tk4aPTKdAikt"
      }
    },
    {
      "cell_type": "code",
      "source": [
        "def get_quantization_scale_and_zero_point(fp_tensor, bitwidth):\n",
        "    \"\"\"\n",
        "    get quantization scale for single tensor\n",
        "    :param fp_tensor: [torch.(cuda.)Tensor] floating tensor to be quantized\n",
        "    :param bitwidth: [int] quantization bit width\n",
        "    :return:\n",
        "        [float] scale\n",
        "        [int] zero_point\n",
        "    \"\"\"\n",
        "    quantized_min, quantized_max = get_quantized_range(bitwidth)\n",
        "    fp_max = fp_tensor.max().item()\n",
        "    fp_min = fp_tensor.min().item()\n",
        "\n",
        "    ############### YOUR CODE STARTS HERE ###############\n",
        "    # hint: one line of code for calculating scale\n",
        "    scale = 0\n",
        "    # hint: one line of code for calculating zero_point\n",
        "    zero_point = 0\n",
        "    ############### YOUR CODE ENDS HERE #################\n",
        "\n",
        "    # clip the zero_point to fall in [quantized_min, quantized_max]\n",
        "    if zero_point < quantized_min:\n",
        "        zero_point = quantized_min\n",
        "    elif zero_point > quantized_max:\n",
        "        zero_point = quantized_max\n",
        "    else: # convert from float to int using round()\n",
        "        zero_point = round(zero_point)\n",
        "    return scale, int(zero_point)"
      ],
      "metadata": {
        "id": "LfAjS4KhfwDY"
      },
      "execution_count": null,
      "outputs": []
    },
    {
      "cell_type": "markdown",
      "source": [
        "We now wrap  `linear_quantize()` in Question 4 and `get_quantization_scale_and_zero_point()` in Question 5 into one function."
      ],
      "metadata": {
        "id": "OW1AOZboSK0e"
      }
    },
    {
      "cell_type": "code",
      "source": [
        "def linear_quantize_feature(fp_tensor, bitwidth):\n",
        "    \"\"\"\n",
        "    linear quantization for feature tensor\n",
        "    :param fp_tensor: [torch.(cuda.)Tensor] floating feature to be quantized\n",
        "    :param bitwidth: [int] quantization bit width\n",
        "    :return:\n",
        "        [torch.(cuda.)Tensor] quantized tensor\n",
        "        [float] scale tensor\n",
        "        [int] zero point\n",
        "    \"\"\"\n",
        "    scale, zero_point = get_quantization_scale_and_zero_point(fp_tensor, bitwidth)\n",
        "    quantized_tensor = linear_quantize(fp_tensor, bitwidth, scale, zero_point)\n",
        "    return quantized_tensor, scale, zero_point"
      ],
      "metadata": {
        "id": "FWeOwwXgoPLc"
      },
      "execution_count": null,
      "outputs": []
    },
    {
      "cell_type": "markdown",
      "source": [
        "## Special case: linear quantization on weight tensor\n",
        "\n",
        "Let's first see the distribution of weight values."
      ],
      "metadata": {
        "id": "a0YWp1YtfY-a"
      }
    },
    {
      "cell_type": "code",
      "source": [
        "def plot_weight_distribution(model, bitwidth=32):\n",
        "    # bins = (1 << bitwidth) if bitwidth <= 8 else 256\n",
        "    if bitwidth <= 8:\n",
        "        qmin, qmax = get_quantized_range(bitwidth)\n",
        "        bins = np.arange(qmin, qmax + 2)\n",
        "        align = 'left'\n",
        "    else:\n",
        "        bins = 256\n",
        "        align = 'mid'\n",
        "    fig, axes = plt.subplots(3,3, figsize=(10, 6))\n",
        "    axes = axes.ravel()\n",
        "    plot_index = 0\n",
        "    for name, param in model.named_parameters():\n",
        "        if param.dim() > 1:\n",
        "            ax = axes[plot_index]\n",
        "            ax.hist(param.detach().view(-1).cpu(), bins=bins, density=True, \n",
        "                    align=align, color = 'blue', alpha = 0.5,\n",
        "                    edgecolor='black' if bitwidth <= 4 else None)\n",
        "            if bitwidth <= 4:\n",
        "                quantized_min, quantized_max = get_quantized_range(bitwidth)\n",
        "                ax.set_xticks(np.arange(start=quantized_min, stop=quantized_max+1))\n",
        "            ax.set_xlabel(name)\n",
        "            ax.set_ylabel('density')\n",
        "            plot_index += 1\n",
        "    fig.suptitle(f'Histogram of Weights (bitwidth={bitwidth} bits)')\n",
        "    fig.tight_layout()\n",
        "    fig.subplots_adjust(top=0.925)\n",
        "    plt.show()\n",
        "\n",
        "recover_model()\n",
        "plot_weight_distribution(model)"
      ],
      "metadata": {
        "id": "-HdIc5kKk89j"
      },
      "execution_count": null,
      "outputs": []
    },
    {
      "cell_type": "markdown",
      "source": [
        "As we can see from the histograms above, the distribution of weight values are nearly symmetric about 0 (except for the classifier in this case). Therefore, we usually make zero point $Z=0$ when quantizating the weights.\n",
        "\n",
        "From $r = S(q-Z)$, we have\n",
        "\n",
        "> $r_{\\mathrm{max}} = S \\cdot q_{\\mathrm{max}}$\n",
        "\n",
        "and then\n",
        "\n",
        "> $S = r_{\\mathrm{max}} / q_{\\mathrm{max}}$\n",
        "\n",
        "We directly use the maximum magnitude of weight values as $r_{\\mathrm{max}}$."
      ],
      "metadata": {
        "id": "WpAmSr7IlDn9"
      }
    },
    {
      "cell_type": "code",
      "source": [
        "def get_quantization_scale_for_weight(weight, bitwidth):\n",
        "    \"\"\"\n",
        "    get quantization scale for single tensor of weight\n",
        "    :param weight: [torch.(cuda.)Tensor] floating weight to be quantized\n",
        "    :param bitwidth: [integer] quantization bit width\n",
        "    :return:\n",
        "        [floating scalar] scale\n",
        "    \"\"\"\n",
        "    # we just assume values in weight are symmetric\n",
        "    # we also always make zero_point 0 for weight\n",
        "    fp_max = max(weight.abs().max().item(), 5e-7)\n",
        "    _, quantized_max = get_quantized_range(bitwidth)\n",
        "    return fp_max / quantized_max"
      ],
      "metadata": {
        "id": "v3d-Y-G9enEA"
      },
      "execution_count": null,
      "outputs": []
    },
    {
      "cell_type": "markdown",
      "source": [
        "### Per-channel Linear Quantization\n",
        "\n",
        "Recall that for 2D convolution, the weight tensor is a 4-D tensor in the shape of (num_output_channels, num_input_channels, kernel_height, kernel_width).\n",
        "\n",
        "Intensive experiments show that using the different scaling factors $S$ and zero points $Z$ for different output channels will perform better. Therefore, we have to determine scaling factor $S$ and zero point $Z$ for the subtensor of each output channel independently."
      ],
      "metadata": {
        "id": "X71SQhfDnwS7"
      }
    },
    {
      "cell_type": "code",
      "source": [
        "def linear_quantize_weight_per_channel(tensor, bitwidth):\n",
        "    \"\"\"\n",
        "    linear quantization for weight tensor\n",
        "        using different scales and zero_points for different output channels\n",
        "    :param tensor: [torch.(cuda.)Tensor] floating weight to be quantized\n",
        "    :param bitwidth: [int] quantization bit width\n",
        "    :return:\n",
        "        [torch.(cuda.)Tensor] quantized tensor\n",
        "        [torch.(cuda.)Tensor] scale tensor\n",
        "        [int] zero point (which is always 0)\n",
        "    \"\"\"\n",
        "    dim_output_channels = 0\n",
        "    num_output_channels = tensor.shape[dim_output_channels]\n",
        "    scale = torch.zeros(num_output_channels, device=tensor.device)\n",
        "    for oc in range(num_output_channels):\n",
        "        _subtensor = tensor.select(dim_output_channels, oc)\n",
        "        _scale = get_quantization_scale_for_weight(_subtensor, bitwidth)\n",
        "        scale[oc] = _scale\n",
        "    scale_shape = [1] * tensor.dim()\n",
        "    scale_shape[dim_output_channels] = -1\n",
        "    scale = scale.view(scale_shape)\n",
        "    quantized_tensor = linear_quantize(tensor, bitwidth, scale, zero_point=0)\n",
        "    return quantized_tensor, scale, 0"
      ],
      "metadata": {
        "id": "tFkA5JlgoiLs"
      },
      "execution_count": null,
      "outputs": []
    },
    {
      "cell_type": "markdown",
      "source": [
        "### A Quick Peek at Linear Quantization on Weights\n",
        "\n",
        "Now let's have a peek on the weight distribution and model size when applying linear quantization on weights with different bitwidths."
      ],
      "metadata": {
        "id": "bqKnjcUJpq2R"
      }
    },
    {
      "cell_type": "code",
      "source": [
        "@torch.no_grad()\n",
        "def peek_linear_quantization():\n",
        "    for bitwidth in [4, 2]:\n",
        "        for name, param in model.named_parameters():\n",
        "            if param.dim() > 1:\n",
        "                quantized_param, scale, zero_point = \\\n",
        "                    linear_quantize_weight_per_channel(param, bitwidth)\n",
        "                param.copy_(quantized_param)\n",
        "        plot_weight_distribution(model, bitwidth)\n",
        "        recover_model()\n",
        "\n",
        "peek_linear_quantization()"
      ],
      "metadata": {
        "id": "6PzZe2DGvWap"
      },
      "execution_count": null,
      "outputs": []
    },
    {
      "cell_type": "markdown",
      "source": [
        "## Quantized Inference"
      ],
      "metadata": {
        "id": "5Dw14QcxxItm"
      }
    },
    {
      "cell_type": "markdown",
      "source": [
        "After quantization, the inference of convolution and fully-connected layers also change.\n",
        "\n",
        "Recall that $r = S(q-Z)$, and we have\n",
        "\n",
        "> $r_{\\mathrm{input}} = S_{\\mathrm{input}}(q_{\\mathrm{input}}-Z_{\\mathrm{input}})$\n",
        "> \n",
        "> $r_{\\mathrm{weight}} = S_{\\mathrm{weight}}(q_{\\mathrm{weight}}-Z_{\\mathrm{weight}})$\n",
        "> \n",
        "> $r_{\\mathrm{bias}} = S_{\\mathrm{bias}}(q_{\\mathrm{bias}}-Z_{\\mathrm{bias}})$\n",
        "\n",
        "Since $Z_{\\mathrm{weight}}=0$, $r_{\\mathrm{weight}} = S_{\\mathrm{weight}}q_{\\mathrm{weight}}$.\n",
        "\n",
        "The floating point convolution can be written as,\n",
        "\n",
        "> $r_{\\mathrm{output}} = \\mathrm{CONV}[r_{\\mathrm{input}}, r_{\\mathrm{weight}}] + r_{\\mathrm{bias}}\\\\\n",
        "\\;\\;\\;\\;\\;\\;\\;\\;= \\mathrm{CONV}[S_{\\mathrm{input}}(q_{\\mathrm{input}}-Z_{\\mathrm{input}}), S_{\\mathrm{weight}}q_{\\mathrm{weight}}] + S_{\\mathrm{bias}}(q_{\\mathrm{bias}}-Z_{\\mathrm{bias}})\\\\\n",
        "\\;\\;\\;\\;\\;\\;\\;\\;= \\mathrm{CONV}[q_{\\mathrm{input}}-Z_{\\mathrm{input}}, q_{\\mathrm{weight}}]\\cdot (S_{\\mathrm{input}} \\cdot S_{\\mathrm{weight}}) + S_{\\mathrm{bias}}(q_{\\mathrm{bias}}-Z_{\\mathrm{bias}})$\n",
        "\n",
        "To further simplify the computation, we could let\n",
        "\n",
        "> $Z_{\\mathrm{bias}} = 0$\n",
        "> \n",
        "> $S_{\\mathrm{bias}} = S_{\\mathrm{input}} \\cdot S_{\\mathrm{weight}}$\n",
        "\n",
        "so that\n",
        "\n",
        "> $r_{\\mathrm{output}} = (\\mathrm{CONV}[q_{\\mathrm{input}}-Z_{\\mathrm{input}}, q_{\\mathrm{weight}}] + q_{\\mathrm{bias}})\\cdot (S_{\\mathrm{input}} \\cdot S_{\\mathrm{weight}})$\n",
        "> $\\;\\;\\;\\;\\;\\;\\;\\;= (\\mathrm{CONV}[q_{\\mathrm{input}}, q_{\\mathrm{weight}}] - \\mathrm{CONV}[Z_{\\mathrm{input}}, q_{\\mathrm{weight}}] + q_{\\mathrm{bias}})\\cdot (S_{\\mathrm{input}}S_{\\mathrm{weight}})$\n",
        "\n",
        "Since\n",
        "> $r_{\\mathrm{output}} = S_{\\mathrm{output}}(q_{\\mathrm{output}}-Z_{\\mathrm{output}})$\n",
        "\n",
        "we have\n",
        "> $S_{\\mathrm{output}}(q_{\\mathrm{output}}-Z_{\\mathrm{output}}) = (\\mathrm{CONV}[q_{\\mathrm{input}}, q_{\\mathrm{weight}}] - \\mathrm{CONV}[Z_{\\mathrm{input}}, q_{\\mathrm{weight}}] + q_{\\mathrm{bias}})\\cdot (S_{\\mathrm{input}} S_{\\mathrm{weight}})$\n",
        "\n",
        "and thus\n",
        "> $q_{\\mathrm{output}} = (\\mathrm{CONV}[q_{\\mathrm{input}}, q_{\\mathrm{weight}}] - \\mathrm{CONV}[Z_{\\mathrm{input}}, q_{\\mathrm{weight}}] + q_{\\mathrm{bias}})\\cdot (S_{\\mathrm{input}}S_{\\mathrm{weight}} / S_{\\mathrm{output}}) + Z_{\\mathrm{output}}$\n",
        "\n",
        "Since $Z_{\\mathrm{input}}$, $q_{\\mathrm{weight}}$, $q_{\\mathrm{bias}}$ are determined before inference, let\n",
        "\n",
        "> $Q_{\\mathrm{bias}} = q_{\\mathrm{bias}} - \\mathrm{CONV}[Z_{\\mathrm{input}}, q_{\\mathrm{weight}}]$\n",
        "\n",
        "we have\n",
        "\n",
        "> $q_{\\mathrm{output}} = (\\mathrm{CONV}[q_{\\mathrm{input}}, q_{\\mathrm{weight}}] + Q_{\\mathrm{bias}}) \\cdot (S_{\\mathrm{input}}S_{\\mathrm{weight}} / S_{\\mathrm{output}}) + Z_{\\mathrm{output}}$\n",
        "\n",
        "Similarily, for fully-connected layer, we have\n",
        "\n",
        "> $q_{\\mathrm{output}} = (\\mathrm{Linear}[q_{\\mathrm{input}}, q_{\\mathrm{weight}}] + Q_{\\mathrm{bias}})\\cdot (S_{\\mathrm{input}} \\cdot S_{\\mathrm{weight}} / S_{\\mathrm{output}}) + Z_{\\mathrm{output}}$\n",
        "\n",
        "where\n",
        "\n",
        "> $Q_{\\mathrm{bias}} = q_{\\mathrm{bias}} - \\mathrm{Linear}[Z_{\\mathrm{input}}, q_{\\mathrm{weight}}]$"
      ],
      "metadata": {
        "id": "zsHy-Bx-UfpL"
      }
    },
    {
      "cell_type": "markdown",
      "source": [
        "### Question 6 (5 pts)\n",
        "\n",
        "Please complete the following function for linear quantizing the bias.\n",
        "\n",
        "**Hint**:\n",
        "\n",
        "From the above deduction, we know that\n",
        "\n",
        "> $Z_{\\mathrm{bias}} = 0$\n",
        "> \n",
        "> $S_{\\mathrm{bias}} = S_{\\mathrm{input}} \\cdot S_{\\mathrm{weight}}$"
      ],
      "metadata": {
        "id": "XlH0zg7M2J_L"
      }
    },
    {
      "cell_type": "code",
      "source": [
        "def linear_quantize_bias_per_output_channel(bias, weight_scale, input_scale):\n",
        "    \"\"\"\n",
        "    linear quantization for single bias tensor\n",
        "        quantized_bias = fp_bias / bias_scale\n",
        "    :param bias: [torch.FloatTensor] bias weight to be quantized\n",
        "    :param weight_scale: [float or torch.FloatTensor] weight scale tensor\n",
        "    :param input_scale: [float] input scale\n",
        "    :return:\n",
        "        [torch.IntTensor] quantized bias tensor\n",
        "    \"\"\"\n",
        "    assert(bias.dim() == 1)\n",
        "    assert(bias.dtype == torch.float)\n",
        "    assert(isinstance(input_scale, float))\n",
        "    if isinstance(weight_scale, torch.Tensor):\n",
        "        assert(weight_scale.dtype == torch.float)\n",
        "        weight_scale = weight_scale.view(-1)\n",
        "        assert(bias.numel() == weight_scale.numel())\n",
        "\n",
        "    ############### YOUR CODE STARTS HERE ###############\n",
        "    # hint: one line of code\n",
        "    bias_scale = 0\n",
        "    ############### YOUR CODE ENDS HERE #################\n",
        "\n",
        "    quantized_bias = linear_quantize(bias, 32, bias_scale,\n",
        "                                     zero_point=0, dtype=torch.int32)\n",
        "    return quantized_bias, bias_scale, 0"
      ],
      "metadata": {
        "id": "0JZiyAms2G1J"
      },
      "execution_count": null,
      "outputs": []
    },
    {
      "cell_type": "markdown",
      "source": [
        "### Quantized Fully-Connected Layer"
      ],
      "metadata": {
        "id": "mMM7uYX25rFM"
      }
    },
    {
      "cell_type": "markdown",
      "source": [
        "For quantized fully-connected layer, we first precompute $Q_{\\mathrm{bias}}$. Recall that $Q_{\\mathrm{bias}} = q_{\\mathrm{bias}} - \\mathrm{Linear}[Z_{\\mathrm{input}}, q_{\\mathrm{weight}}]$."
      ],
      "metadata": {
        "id": "znsT4EWL5tA5"
      }
    },
    {
      "cell_type": "code",
      "source": [
        "def shift_quantized_linear_bias(quantized_bias, quantized_weight, input_zero_point):\n",
        "    \"\"\"\n",
        "    shift quantized bias to incorporate input_zero_point for nn.Linear\n",
        "        shifted_quantized_bias = quantized_bias - Linear(input_zero_point, quantized_weight)\n",
        "    :param quantized_bias: [torch.IntTensor] quantized bias (torch.int32)\n",
        "    :param quantized_weight: [torch.CharTensor] quantized weight (torch.int8)\n",
        "    :param input_zero_point: [int] input zero point\n",
        "    :return:\n",
        "        [torch.IntTensor] shifted quantized bias tensor\n",
        "    \"\"\"\n",
        "    assert(quantized_bias.dtype == torch.int32)\n",
        "    assert(isinstance(input_zero_point, int))\n",
        "    return quantized_bias - quantized_weight.sum(1).to(torch.int32) * input_zero_point"
      ],
      "metadata": {
        "id": "4rnNs4MN5tgF"
      },
      "execution_count": null,
      "outputs": []
    },
    {
      "cell_type": "markdown",
      "source": [
        "#### Question 7 (15 pts)\n",
        "\n",
        "Please complete the following quantized fully-connected layer inference function.\n",
        "\n",
        "**Hint**:\n",
        "\n",
        "> $q_{\\mathrm{output}} = (\\mathrm{Linear}[q_{\\mathrm{input}}, q_{\\mathrm{weight}}] + Q_{\\mathrm{bias}})\\cdot (S_{\\mathrm{input}} S_{\\mathrm{weight}} / S_{\\mathrm{output}}) + Z_{\\mathrm{output}}$"
      ],
      "metadata": {
        "id": "DqNMxMzk3cDz"
      }
    },
    {
      "cell_type": "code",
      "source": [
        "def quantized_linear(input, weight, bias, feature_bitwidth, weight_bitwidth,\n",
        "                     input_zero_point, output_zero_point,\n",
        "                     input_scale, weight_scale, output_scale):\n",
        "    \"\"\"\n",
        "    quantized fully-connected layer\n",
        "    :param input: [torch.CharTensor] quantized input (torch.int8)\n",
        "    :param weight: [torch.CharTensor] quantized weight (torch.int8)\n",
        "    :param bias: [torch.IntTensor] shifted quantized bias or None (torch.int32)\n",
        "    :param feature_bitwidth: [int] quantization bit width of input and output\n",
        "    :param weight_bitwidth: [int] quantization bit width of weight\n",
        "    :param input_zero_point: [int] input zero point\n",
        "    :param output_zero_point: [int] output zero point\n",
        "    :param input_scale: [float] input feature scale\n",
        "    :param weight_scale: [torch.FloatTensor] weight per-channel scale\n",
        "    :param output_scale: [float] output feature scale\n",
        "    :return:\n",
        "        [torch.CharIntTensor] quantized output feature (torch.int8)\n",
        "    \"\"\"\n",
        "    assert(input.dtype == torch.int8)\n",
        "    assert(weight.dtype == input.dtype)\n",
        "    assert(bias is None or bias.dtype == torch.int32)\n",
        "    assert(isinstance(input_zero_point, int))\n",
        "    assert(isinstance(output_zero_point, int))\n",
        "    assert(isinstance(input_scale, float))\n",
        "    assert(isinstance(output_scale, float))\n",
        "    assert(weight_scale.dtype == torch.float)\n",
        "\n",
        "    # Step 1: integer-based fully-connected (8-bit multiplication with 32-bit accumulation)\n",
        "    if 'cpu' in input.device.type:\n",
        "        # use 32-b MAC for simplicity\n",
        "        output = torch.nn.functional.linear(input.to(torch.int32), weight.to(torch.int32), bias)\n",
        "    else:\n",
        "        # current version pytorch does not yet support integer-based linear() on GPUs\n",
        "        output = torch.nn.functional.linear(input.float(), weight.float(), bias.float())\n",
        "\n",
        "    ############### YOUR CODE STARTS HERE ###############\n",
        "    # Step 2: scale the output\n",
        "    #         hint: 1. scales are floating numbers, we need to convert output to float as well\n",
        "    #               2. the shape of weight scale is [oc, 1, 1, 1] while the shape of output is [batch_size, oc]\n",
        "    output = 0\n",
        "\n",
        "    # Step 3: shift output by output_zero_point\n",
        "    #         hint: one line of code\n",
        "    output = 0\n",
        "    ############### YOUR CODE ENDS HERE #################\n",
        "\n",
        "    # Make sure all value lies in the bitwidth-bit range\n",
        "    output = output.round().clamp(*get_quantized_range(feature_bitwidth)).to(torch.int8)\n",
        "    return output"
      ],
      "metadata": {
        "id": "3PVvI7jP3cMo"
      },
      "execution_count": null,
      "outputs": []
    },
    {
      "cell_type": "markdown",
      "source": [
        "Let's verify the functionality of defined quantized fully connected layer."
      ],
      "metadata": {
        "id": "115enVamIG_e"
      }
    },
    {
      "cell_type": "code",
      "source": [
        "test_quantized_fc()"
      ],
      "metadata": {
        "id": "HWmsLxgHH_B3"
      },
      "execution_count": null,
      "outputs": []
    },
    {
      "cell_type": "markdown",
      "source": [
        "### Quantized Convolution"
      ],
      "metadata": {
        "id": "ATooyRrH50ls"
      }
    },
    {
      "cell_type": "markdown",
      "source": [
        "For quantized convolution layer, we first precompute $Q_{\\mathrm{bias}}$. Recall that $Q_{\\mathrm{bias}} = q_{\\mathrm{bias}} - \\mathrm{CONV}[Z_{\\mathrm{input}}, q_{\\mathrm{weight}}]$."
      ],
      "metadata": {
        "id": "8mk1Ziof51JG"
      }
    },
    {
      "cell_type": "code",
      "source": [
        "def shift_quantized_conv2d_bias(quantized_bias, quantized_weight, input_zero_point):\n",
        "    \"\"\"\n",
        "    shift quantized bias to incorporate input_zero_point for nn.Conv2d\n",
        "        shifted_quantized_bias = quantized_bias - Conv(input_zero_point, quantized_weight)\n",
        "    :param quantized_bias: [torch.IntTensor] quantized bias (torch.int32)\n",
        "    :param quantized_weight: [torch.CharTensor] quantized weight (torch.int8)\n",
        "    :param input_zero_point: [int] input zero point\n",
        "    :return:\n",
        "        [torch.IntTensor] shifted quantized bias tensor\n",
        "    \"\"\"\n",
        "    assert(quantized_bias.dtype == torch.int32)\n",
        "    assert(isinstance(input_zero_point, int))\n",
        "    return quantized_bias - quantized_weight.sum((1,2,3)).to(torch.int32) * input_zero_point"
      ],
      "metadata": {
        "id": "wEeANE_I53hz"
      },
      "execution_count": null,
      "outputs": []
    },
    {
      "cell_type": "markdown",
      "source": [
        "#### Question 8 (15 pts)\n",
        "\n",
        "Please complete the following quantized convolution function.\n",
        "\n",
        "**Hint**:\n",
        "> $q_{\\mathrm{output}} = (\\mathrm{CONV}[q_{\\mathrm{input}}, q_{\\mathrm{weight}}] + Q_{\\mathrm{bias}}) \\cdot (S_{\\mathrm{input}}S_{\\mathrm{weight}} / S_{\\mathrm{output}}) + Z_{\\mathrm{output}}$\n"
      ],
      "metadata": {
        "id": "0x2SqxOp23cw"
      }
    },
    {
      "cell_type": "code",
      "source": [
        "def quantized_conv2d(input, weight, bias, feature_bitwidth, weight_bitwidth,\n",
        "                     input_zero_point, output_zero_point,\n",
        "                     input_scale, weight_scale, output_scale,\n",
        "                     stride, padding, dilation, groups):\n",
        "    \"\"\"\n",
        "    quantized 2d convolution\n",
        "    :param input: [torch.CharTensor] quantized input (torch.int8)\n",
        "    :param weight: [torch.CharTensor] quantized weight (torch.int8)\n",
        "    :param bias: [torch.IntTensor] shifted quantized bias or None (torch.int32)\n",
        "    :param feature_bitwidth: [int] quantization bit width of input and output\n",
        "    :param weight_bitwidth: [int] quantization bit width of weight\n",
        "    :param input_zero_point: [int] input zero point\n",
        "    :param output_zero_point: [int] output zero point\n",
        "    :param input_scale: [float] input feature scale\n",
        "    :param weight_scale: [torch.FloatTensor] weight per-channel scale\n",
        "    :param output_scale: [float] output feature scale\n",
        "    :return:\n",
        "        [torch.(cuda.)CharTensor] quantized output feature\n",
        "    \"\"\"\n",
        "    assert(len(padding) == 4)\n",
        "    assert(input.dtype == torch.int8)\n",
        "    assert(weight.dtype == input.dtype)\n",
        "    assert(bias is None or bias.dtype == torch.int32)\n",
        "    assert(isinstance(input_zero_point, int))\n",
        "    assert(isinstance(output_zero_point, int))\n",
        "    assert(isinstance(input_scale, float))\n",
        "    assert(isinstance(output_scale, float))\n",
        "    assert(weight_scale.dtype == torch.float)\n",
        "\n",
        "    # Step 1: calculate integer-based 2d convolution (8-bit multiplication with 32-bit accumulation)\n",
        "    input = torch.nn.functional.pad(input, padding, 'constant', input_zero_point)\n",
        "    if 'cpu' in input.device.type:\n",
        "        # use 32-b MAC for simplicity\n",
        "        output = torch.nn.functional.conv2d(input.to(torch.int32), weight.to(torch.int32), None, stride, 0, dilation, groups)\n",
        "    else:\n",
        "        # current version pytorch does not yet support integer-based conv2d() on GPUs\n",
        "        output = torch.nn.functional.conv2d(input.float(), weight.float(), None, stride, 0, dilation, groups)\n",
        "        output = output.round().to(torch.int32)\n",
        "    if bias is not None:\n",
        "        output = output + bias.view(1, -1, 1, 1)\n",
        "\n",
        "    ############### YOUR CODE STARTS HERE ###############\n",
        "    # hint: this code block should be the very similar to quantized_linear()\n",
        "\n",
        "    # Step 2: scale the output\n",
        "    #         hint: 1. scales are floating numbers, we need to convert output to float as well\n",
        "    #               2. the shape of weight scale is [oc, 1, 1, 1] while the shape of output is [batch_size, oc, height, width]\n",
        "    output = 0\n",
        "\n",
        "    # Step 3: shift output by output_zero_point\n",
        "    #         hint: one line of code\n",
        "    output = 0\n",
        "    ############### YOUR CODE ENDS HERE #################\n",
        "\n",
        "    # Make sure all value lies in the bitwidth-bit range\n",
        "    output = output.round().clamp(*get_quantized_range(feature_bitwidth)).to(torch.int8)\n",
        "    return output"
      ],
      "metadata": {
        "id": "LVRqhiUno65x"
      },
      "execution_count": null,
      "outputs": []
    },
    {
      "cell_type": "markdown",
      "source": [
        "## Question 9 (10 pts)\n",
        "\n",
        "Finally, we are putting everything together and perform post-training `int8` quantization for the model. We will convert the convolutional and linear layers in the model to a quantized version one-by-one."
      ],
      "metadata": {
        "id": "32vvQ4WJHVlA"
      }
    },
    {
      "cell_type": "markdown",
      "source": [
        "1. Firstly, we will fuse a BatchNorm layer into its previous convolutional layer, which is a standard practice before quantization. Fusing batchnorm reduces the extra multiplication during inference. \n",
        "\n",
        "We will also verify that the fused model `model_fused` has the same accuracy as the original model (BN fusion is an equivalent transform that does not change network functionality)."
      ],
      "metadata": {
        "id": "2E5EDR2sINVS"
      }
    },
    {
      "cell_type": "code",
      "source": [
        "def fuse_conv_bn(conv, bn):\n",
        "    # modified from https://mmcv.readthedocs.io/en/latest/_modules/mmcv/cnn/utils/fuse_conv_bn.html\n",
        "    assert conv.bias is None\n",
        "\n",
        "    factor = bn.weight.data / torch.sqrt(bn.running_var.data + bn.eps)\n",
        "    conv.weight.data = conv.weight.data * factor.reshape(-1, 1, 1, 1)\n",
        "    conv.bias = nn.Parameter(- bn.running_mean.data * factor + bn.bias.data)\n",
        "\n",
        "    return conv\n",
        "\n",
        "print('Before conv-bn fusion: backbone length', len(model.backbone))\n",
        "#  fuse the batchnorm into conv layers\n",
        "recover_model()\n",
        "model_fused = copy.deepcopy(model)\n",
        "fused_backbone = []\n",
        "ptr = 0\n",
        "while ptr < len(model_fused.backbone):\n",
        "    if isinstance(model_fused.backbone[ptr], nn.Conv2d) and \\\n",
        "        isinstance(model_fused.backbone[ptr + 1], nn.BatchNorm2d):\n",
        "        fused_backbone.append(fuse_conv_bn(\n",
        "            model_fused.backbone[ptr], model_fused.backbone[ptr+ 1]))\n",
        "        ptr += 2\n",
        "    else:\n",
        "        fused_backbone.append(model_fused.backbone[ptr])\n",
        "        ptr += 1\n",
        "model_fused.backbone = nn.Sequential(*fused_backbone)\n",
        "\n",
        "print('After conv-bn fusion: backbone length', len(model_fused.backbone))\n",
        "# sanity check, no BN anymore\n",
        "for m in model_fused.modules():\n",
        "    assert not isinstance(m, nn.BatchNorm2d)\n",
        "\n",
        "#  the accuracy will remain the same after fusion\n",
        "fused_acc = evaluate(model_fused, dataloader['test'])\n",
        "print(f'Accuracy of the fused model={fused_acc:.2f}%')"
      ],
      "metadata": {
        "id": "V2K8KSl7IE4D"
      },
      "execution_count": null,
      "outputs": []
    },
    {
      "cell_type": "markdown",
      "source": [
        "2. We will run the model with some sample data to get the range of each feature map, so that we can get the range of the feature maps and compute their corresponding scaling factors and zero points."
      ],
      "metadata": {
        "id": "oCOXprerMY5t"
      }
    },
    {
      "cell_type": "code",
      "source": [
        "# add hook to record the min max value of the activation\n",
        "input_activation = {}\n",
        "output_activation = {}\n",
        "\n",
        "def add_range_recoder_hook(model):\n",
        "    import functools\n",
        "    def _record_range(self, x, y, module_name):\n",
        "        x = x[0]\n",
        "        input_activation[module_name] = x.detach()\n",
        "        output_activation[module_name] = y.detach()\n",
        "\n",
        "    all_hooks = []\n",
        "    for name, m in model.named_modules():\n",
        "        if isinstance(m, (nn.Conv2d, nn.Linear, nn.ReLU)):\n",
        "            all_hooks.append(m.register_forward_hook(\n",
        "                functools.partial(_record_range, module_name=name)))\n",
        "    return all_hooks\n",
        "\n",
        "hooks = add_range_recoder_hook(model_fused)\n",
        "sample_data = iter(dataloader['train']).__next__()[0]\n",
        "model_fused(sample_data.cuda())\n",
        "\n",
        "# remove hooks\n",
        "for h in hooks:\n",
        "    h.remove()\n"
      ],
      "metadata": {
        "id": "CjKrC7L-UrxZ"
      },
      "execution_count": null,
      "outputs": []
    },
    {
      "cell_type": "markdown",
      "source": [
        "3. Finally, let's do model quantization. We will convert the model in the following mapping\n",
        "```python\n",
        "nn.Conv2d: QuantizedConv2d, \n",
        "nn.Linear: QuantizedLinear,\n",
        "# the following twos are just wrappers, as current \n",
        "# torch modules do not support int8 data format; \n",
        "# we will temporarily convert them to fp32 for computation\n",
        "nn.MaxPool2d: QuantizedMaxPool2d,\n",
        "nn.AvgPool2d: QuantizedAvgPool2d,\n",
        "```"
      ],
      "metadata": {
        "id": "uq3fvyx_6bLW"
      }
    },
    {
      "cell_type": "code",
      "source": [
        "class QuantizedConv2d(nn.Module):\n",
        "    def __init__(self, weight, bias, \n",
        "                 input_zero_point, output_zero_point,\n",
        "                 input_scale, weight_scale, output_scale,\n",
        "                 stride, padding, dilation, groups,\n",
        "                 feature_bitwidth=8, weight_bitwidth=8):\n",
        "        super().__init__()\n",
        "        # current version Pytorch does not support IntTensor as nn.Parameter\n",
        "        self.register_buffer('weight', weight)\n",
        "        self.register_buffer('bias', bias)\n",
        "\n",
        "        self.input_zero_point = input_zero_point\n",
        "        self.output_zero_point = output_zero_point\n",
        "\n",
        "        self.input_scale = input_scale\n",
        "        self.register_buffer('weight_scale', weight_scale)\n",
        "        self.output_scale = output_scale\n",
        "\n",
        "        self.stride = stride\n",
        "        self.padding = (padding[1], padding[1], padding[0], padding[0])\n",
        "        self.dilation = dilation\n",
        "        self.groups = groups\n",
        "\n",
        "        self.feature_bitwidth = feature_bitwidth\n",
        "        self.weight_bitwidth = weight_bitwidth\n",
        "\n",
        "\n",
        "    def forward(self, x):\n",
        "        return quantized_conv2d(\n",
        "            x, self.weight, self.bias, \n",
        "            self.feature_bitwidth, self.weight_bitwidth,\n",
        "            self.input_zero_point, self.output_zero_point,\n",
        "            self.input_scale, self.weight_scale, self.output_scale,\n",
        "            self.stride, self.padding, self.dilation, self.groups\n",
        "            )\n",
        "        \n",
        "class QuantizedLinear(nn.Module):\n",
        "    def __init__(self, weight, bias, \n",
        "                 input_zero_point, output_zero_point,\n",
        "                 input_scale, weight_scale, output_scale,\n",
        "                 feature_bitwidth=8, weight_bitwidth=8):\n",
        "        super().__init__()\n",
        "        # current version Pytorch does not support IntTensor as nn.Parameter\n",
        "        self.register_buffer('weight', weight)\n",
        "        self.register_buffer('bias', bias)\n",
        "\n",
        "        self.input_zero_point = input_zero_point\n",
        "        self.output_zero_point = output_zero_point\n",
        "\n",
        "        self.input_scale = input_scale\n",
        "        self.register_buffer('weight_scale', weight_scale)\n",
        "        self.output_scale = output_scale\n",
        "\n",
        "        self.feature_bitwidth = feature_bitwidth\n",
        "        self.weight_bitwidth = weight_bitwidth\n",
        "\n",
        "    def forward(self, x):\n",
        "        return quantized_linear(\n",
        "            x, self.weight, self.bias, \n",
        "            self.feature_bitwidth, self.weight_bitwidth,\n",
        "            self.input_zero_point, self.output_zero_point,\n",
        "            self.input_scale, self.weight_scale, self.output_scale\n",
        "            )\n",
        "\n",
        "class QuantizedMaxPool2d(nn.MaxPool2d):\n",
        "    def forward(self, x):\n",
        "        # current version PyTorch does not support integer-based MaxPool\n",
        "        return super().forward(x.float()).to(torch.int8)\n",
        "\n",
        "class QuantizedAvgPool2d(nn.AvgPool2d):\n",
        "    def forward(self, x):\n",
        "        # current version PyTorch does not support integer-based AvgPool\n",
        "        return super().forward(x.float()).to(torch.int8)\n",
        "\n",
        "# we use int8 quantization, which is quite popular\n",
        "feature_bitwidth = weight_bitwidth = 8 \n",
        "quantized_model = copy.deepcopy(model_fused)\n",
        "quantized_backbone = []\n",
        "ptr = 0\n",
        "while ptr < len(quantized_model.backbone):\n",
        "    if isinstance(quantized_model.backbone[ptr], nn.Conv2d) and \\\n",
        "        isinstance(quantized_model.backbone[ptr + 1], nn.ReLU):\n",
        "        conv = quantized_model.backbone[ptr]\n",
        "        conv_name = f'backbone.{ptr}'\n",
        "        relu = quantized_model.backbone[ptr + 1]\n",
        "        relu_name = f'backbone.{ptr + 1}'\n",
        "\n",
        "        input_scale, input_zero_point = \\\n",
        "            get_quantization_scale_and_zero_point(\n",
        "                input_activation[conv_name], feature_bitwidth)\n",
        "        \n",
        "        output_scale, output_zero_point = \\\n",
        "            get_quantization_scale_and_zero_point(\n",
        "                output_activation[relu_name], feature_bitwidth)\n",
        "\n",
        "        quantized_weight, weight_scale, weight_zero_point = \\\n",
        "            linear_quantize_weight_per_channel(conv.weight.data, weight_bitwidth)\n",
        "        quantized_bias, bias_scale, bias_zero_point = \\\n",
        "            linear_quantize_bias_per_output_channel(\n",
        "                conv.bias.data, weight_scale, input_scale)\n",
        "        shifted_quantized_bias = \\\n",
        "            shift_quantized_conv2d_bias(quantized_bias, quantized_weight, \n",
        "                                        input_zero_point)\n",
        "            \n",
        "        quantized_conv = QuantizedConv2d(\n",
        "            quantized_weight, shifted_quantized_bias,\n",
        "            input_zero_point, output_zero_point,\n",
        "            input_scale, weight_scale, output_scale,\n",
        "            conv.stride, conv.padding, conv.dilation, conv.groups,\n",
        "            feature_bitwidth=feature_bitwidth, weight_bitwidth=weight_bitwidth\n",
        "        )\n",
        "\n",
        "        quantized_backbone.append(quantized_conv)\n",
        "        ptr += 2\n",
        "    elif isinstance(quantized_model.backbone[ptr], nn.MaxPool2d):\n",
        "        quantized_backbone.append(QuantizedMaxPool2d(\n",
        "            kernel_size=quantized_model.backbone[ptr].kernel_size,\n",
        "            stride=quantized_model.backbone[ptr].stride\n",
        "            ))\n",
        "        ptr += 1\n",
        "    elif isinstance(quantized_model.backbone[ptr], nn.AvgPool2d):\n",
        "        quantized_backbone.append(QuantizedAvgPool2d(\n",
        "            kernel_size=quantized_model.backbone[ptr].kernel_size,\n",
        "            stride=quantized_model.backbone[ptr].stride\n",
        "            ))\n",
        "        ptr += 1\n",
        "    else:\n",
        "        raise NotImplementedError(type(quantized_model.backbone[ptr]))  # should not happen\n",
        "quantized_model.backbone = nn.Sequential(*quantized_backbone)\n",
        "\n",
        "# finally, quantized the classifier\n",
        "fc_name = 'classifier'\n",
        "fc = model.classifier\n",
        "input_scale, input_zero_point = \\\n",
        "    get_quantization_scale_and_zero_point(\n",
        "        input_activation[fc_name], feature_bitwidth)\n",
        "\n",
        "output_scale, output_zero_point = \\\n",
        "    get_quantization_scale_and_zero_point(\n",
        "        output_activation[fc_name], feature_bitwidth)\n",
        "\n",
        "quantized_weight, weight_scale, weight_zero_point = \\\n",
        "    linear_quantize_weight_per_channel(fc.weight.data, weight_bitwidth)\n",
        "quantized_bias, bias_scale, bias_zero_point = \\\n",
        "    linear_quantize_bias_per_output_channel(\n",
        "        fc.bias.data, weight_scale, input_scale)\n",
        "shifted_quantized_bias = \\\n",
        "    shift_quantized_linear_bias(quantized_bias, quantized_weight, \n",
        "                                input_zero_point)\n",
        "            \n",
        "quantized_model.classifier = QuantizedLinear(\n",
        "    quantized_weight, shifted_quantized_bias,\n",
        "    input_zero_point, output_zero_point,\n",
        "    input_scale, weight_scale, output_scale,\n",
        "    feature_bitwidth=feature_bitwidth, weight_bitwidth=weight_bitwidth\n",
        ")"
      ],
      "metadata": {
        "id": "iFD5W0H1Zban"
      },
      "execution_count": null,
      "outputs": []
    },
    {
      "cell_type": "markdown",
      "source": [
        "The quantization process is done! Let's print and visualize the model architecture and also verify the accuracy of the quantized model. \n"
      ],
      "metadata": {
        "id": "YIPgF84IygCy"
      }
    },
    {
      "cell_type": "markdown",
      "source": [
        "### Question 9.1 (5 pts)\n",
        "\n",
        "To run the quantized model, we need an extra preprocessing to map the input data from range (0, 1) into `int8` range of (-128, 127). Fill in the code below to finish the extra preprocessing.\n",
        "\n",
        "**Hint**: you should find that the quantized model has roughly the same accuracy as the `fp32` counterpart."
      ],
      "metadata": {
        "id": "vGkf1sf27uFj"
      }
    },
    {
      "cell_type": "code",
      "source": [
        "print(quantized_model)\n",
        "\n",
        "def extra_preprocess(x):\n",
        "    # hint: you need to convert the original fp32 input of range (0, 1)\n",
        "    #  into int8 format of range (-128, 127)\n",
        "    ############### YOUR CODE STARTS HERE ###############\n",
        "    return 0.clamp(-128, 127).to(torch.int8)\n",
        "    ############### YOUR CODE ENDS HERE #################\n",
        "\n",
        "int8_model_accuracy = evaluate(quantized_model, dataloader['test'],\n",
        "                               extra_preprocess=[extra_preprocess])\n",
        "print(f\"int8 model has accuracy={int8_model_accuracy:.2f}%\")"
      ],
      "metadata": {
        "id": "PEZT47BE6dXe"
      },
      "execution_count": null,
      "outputs": []
    },
    {
      "cell_type": "markdown",
      "source": [
        "## Question 9.2 (Bonus Question; 5 pts)\n",
        "\n",
        "Explain why there is no ReLU layer in the linear quantized model."
      ],
      "metadata": {
        "id": "61iwKRAA8A7c"
      }
    },
    {
      "cell_type": "markdown",
      "source": [
        "**Your Answer:**"
      ],
      "metadata": {
        "id": "8Ewbt01T8F1b"
      }
    },
    {
      "cell_type": "markdown",
      "source": [
        "# Question 10 (5 pts)\n",
        "\n",
        "Please compare the advantages and disadvantages of k-means-based quantization and linear quantization. You can discuss from the perspective of accuracy, latency, hardware support, etc."
      ],
      "metadata": {
        "id": "HhSnPZpD7ye9"
      }
    },
    {
      "cell_type": "markdown",
      "source": [
        "**Your Answer:**"
      ],
      "metadata": {
        "id": "mhlf55UM73yA"
      }
    },
    {
      "cell_type": "markdown",
      "source": [
        "# Feedback"
      ],
      "metadata": {
        "id": "xxOBqoXoSUfE"
      }
    },
    {
      "cell_type": "markdown",
      "source": [
        "Please fill out this [feedback form](https://docs.google.com/forms/d/e/1FAIpQLSd6I3YRQzxuaNQme9z4yawf1szi3kRGuKZk-4s76XLB97bBQw/viewform?vc=0&c=0&w=1&flr=0&usp=mail_form_link) when you finished this lab. We would love to hear your thoughts or feedback on how we can improve this lab!"
      ],
      "metadata": {
        "id": "ajqZJes3SVc-"
      }
    }
  ]
}